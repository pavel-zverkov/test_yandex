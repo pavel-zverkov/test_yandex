{
 "cells": [
  {
   "cell_type": "markdown",
   "metadata": {},
   "source": [
    "# Алгоритм Кадана\n",
    "\n",
    "Для поиска подотрезка с максимальной суммой элементов измпользуется алгоритм Кадана (https://e-maxx.ru/algo/maximum_average_segment), сложность которого линейна."
   ]
  },
  {
   "cell_type": "code",
   "execution_count": 1,
   "metadata": {},
   "outputs": [],
   "source": [
    "a = [20, 30, -49, 49, -49, -1]"
   ]
  },
  {
   "cell_type": "code",
   "execution_count": 2,
   "metadata": {},
   "outputs": [],
   "source": [
    "def Kadanes(a):\n",
    "    #Зададим начальное значение суммы подотрезка, как первый элемент массива\n",
    "    ans = a[0]\n",
    "    #Также зададим его начальные границы\n",
    "    ans_l, ans_r = 0, 0\n",
    "    #И еще определим начальное значение суммы элементов и вспомогательный элемент, для определения границ\n",
    "    summ = 0\n",
    "    minus_pos = -1\n",
    "    \n",
    "    for i in range(len(a)):\n",
    "        summ += a[i]\n",
    "        \n",
    "        if summ > ans:\n",
    "            ans = summ\n",
    "            ans_l = minus_pos + 1\n",
    "            ans_r = i\n",
    "            \n",
    "        elif summ < 0:\n",
    "            summ = 0\n",
    "            minus_pos = i\n",
    "            \n",
    "    print(f'Found subarray: {a[ans_l:ans_r + 1]} with maximum summ: {sum(a[ans_l:ans_r + 1])}')"
   ]
  },
  {
   "cell_type": "code",
   "execution_count": 3,
   "metadata": {},
   "outputs": [
    {
     "name": "stdout",
     "output_type": "stream",
     "text": [
      "Found subarray: [20, 30] with maximum summ: 50\n"
     ]
    }
   ],
   "source": [
    "Kadanes(a)"
   ]
  },
  {
   "cell_type": "markdown",
   "metadata": {},
   "source": [
    "# Решение\n",
    "\n",
    "Для поиска отрезка с минимальной по модулю суммой будем использовать такие же соображения. Будем использовать массив префиксов, но задача поиска будет следующей:\n",
    "\n",
    "$$|s[r] - s[l - 1]| \\longrightarrow \\min$$\n",
    "\n",
    "Так как это модуль разности, то искать $s[l - 1]$ с одной стороны от $s[r]$ уже не получится, т.е. для минимизации суммы нужно, чтобы $s[l - 1]$ был минимальным из всех значений префиксов превосходящих (лежащих справа) по значению $s[r]$ или максимальным из всех значений не превосходящих (лежазих слева) $s[r]$."
   ]
  },
  {
   "cell_type": "markdown",
   "metadata": {},
   "source": [
    "Получается, что нам нужно искать самые близкие значения в массиве префиксов, точнее в множестве, где значения не повторяются. Проще всего отсортировать полученное множество и искать там. Остается несколько исключений:\n",
    "1. Исходный список состоит из одного элемента\n",
    "2. Массив префиксов содержит ноль\n",
    "3. Исходный массив содержит элемент располагающийся к нулю ближе, чем сумма найденного подотрезка.\n",
    "\n",
    "Учтем это и получим следующий алгоритм"
   ]
  },
  {
   "cell_type": "code",
   "execution_count": 11,
   "metadata": {},
   "outputs": [],
   "source": [
    "def upd_sort(a):\n",
    "    \n",
    "    if len(a) < 2: return a[0]\n",
    "    \n",
    "    summ = 0\n",
    "    prefix = []\n",
    "    for i in range(len(a)):\n",
    "        summ += a[i]\n",
    "        prefix.append(summ)\n",
    "    #prefix = [sum(a[:i + 1]) for i in range(len(a))]\n",
    "    \n",
    "    sort_prefix = sorted(set(prefix))\n",
    "\n",
    "    bounds = [0, 1]\n",
    "    min_dist = abs(prefix[0] - prefix[1])\n",
    "    \n",
    "    for i in range(1, len(sort_prefix)):\n",
    "        if abs(sort_prefix[i] - sort_prefix[i - 1]) < min_dist:\n",
    "            min_dist = abs(sort_prefix[i] - sort_prefix[i - 1])\n",
    "            bounds = [prefix.index(sort_prefix[i]), prefix.index(sort_prefix[i - 1])]\n",
    "            \n",
    "    if 0 in prefix:\n",
    "        print(f'Found subarray: {a[:prefix.index(0) + 1]} with minimal abs summ: {abs(sum(a[:prefix.index(0) + 1]))}') \n",
    "    elif min_dist <  min(list(map(abs, a))): \n",
    "        print(f'Found subarray: {a[bounds[0]:bounds[1] + 1]} with minimal abs summ: {abs(sum(a[bounds[0]:bounds[1] + 1]))}') \n",
    "    else:    \n",
    "        print(f'Subbaray with minimal abs summ is element: {min(list(map(abs, a)))}')"
   ]
  },
  {
   "cell_type": "code",
   "execution_count": 12,
   "metadata": {},
   "outputs": [
    {
     "name": "stdout",
     "output_type": "stream",
     "text": [
      "Found subarray: [20, 30, -49, 49, -49, -1] with minimal abs summ: 0\n"
     ]
    }
   ],
   "source": [
    "upd_sort(a)"
   ]
  },
  {
   "cell_type": "code",
   "execution_count": null,
   "metadata": {},
   "outputs": [],
   "source": []
  }
 ],
 "metadata": {
  "kernelspec": {
   "display_name": "Python 3",
   "language": "python",
   "name": "python3"
  },
  "language_info": {
   "codemirror_mode": {
    "name": "ipython",
    "version": 3
   },
   "file_extension": ".py",
   "mimetype": "text/x-python",
   "name": "python",
   "nbconvert_exporter": "python",
   "pygments_lexer": "ipython3",
   "version": "3.7.4"
  }
 },
 "nbformat": 4,
 "nbformat_minor": 4
}
